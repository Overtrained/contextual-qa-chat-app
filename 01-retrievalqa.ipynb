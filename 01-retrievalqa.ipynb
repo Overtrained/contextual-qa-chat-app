{
 "cells": [
  {
   "cell_type": "markdown",
   "metadata": {},
   "source": [
    "# Purpose\n",
    "The purpose of this notebook is to trial the usage of `RetrievalQA` for question answering in our current use case.  I'll be working mainly from these two examples: [example 1](https://python.langchain.com/docs/use_cases/question_answering/) & [example 2](https://python.langchain.com/docs/use_cases/question_answering/how_to/vector_db_qa)."
   ]
  },
  {
   "cell_type": "code",
   "execution_count": null,
   "metadata": {},
   "outputs": [],
   "source": []
  }
 ],
 "metadata": {
  "language_info": {
   "name": "python"
  },
  "orig_nbformat": 4
 },
 "nbformat": 4,
 "nbformat_minor": 2
}
