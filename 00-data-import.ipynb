{
 "cells": [
  {
   "cell_type": "markdown",
   "metadata": {},
   "source": [
    "# Purpose\n",
    "The purpose of this notebook is to load the data source and build a vector store.\n",
    "\n",
    "# Data Source\n",
    "The reddit financial dataset from HuggingFace will be used as the data source for this project.  Information available [here](https://huggingface.co/datasets/winddude/reddit_finance_43_250k)."
   ]
  },
  {
   "cell_type": "code",
   "execution_count": 1,
   "metadata": {},
   "outputs": [
    {
     "name": "stderr",
     "output_type": "stream",
     "text": [
      "/Users/mcnewcp/code/contextual-qa-chat-app/.venv/lib/python3.11/site-packages/tqdm/auto.py:21: TqdmWarning: IProgress not found. Please update jupyter and ipywidgets. See https://ipywidgets.readthedocs.io/en/stable/user_install.html\n",
      "  from .autonotebook import tqdm as notebook_tqdm\n",
      "Downloading data: 100%|██████████| 680M/680M [01:59<00:00, 5.70MB/s]\n",
      "Downloading data files: 100%|██████████| 1/1 [01:59<00:00, 119.36s/it]\n",
      "Extracting data files: 100%|██████████| 1/1 [00:00<00:00, 385.19it/s]\n",
      "Generating train split: 250000 examples [00:04, 55051.13 examples/s]\n"
     ]
    },
    {
     "data": {
      "text/plain": [
       "DatasetDict({\n",
       "    train: Dataset({\n",
       "        features: ['id', 'title', 'selftext', 'z_score', 'normalized_score', 'subreddit', 'body', 'comment_normalized_score', 'combined_score'],\n",
       "        num_rows: 250000\n",
       "    })\n",
       "})"
      ]
     },
     "execution_count": 1,
     "metadata": {},
     "output_type": "execute_result"
    }
   ],
   "source": [
    "from datasets import load_dataset\n",
    "\n",
    "dataset = load_dataset(\"winddude/reddit_finance_43_250k\")\n",
    "dataset"
   ]
  },
  {
   "cell_type": "code",
   "execution_count": 2,
   "metadata": {},
   "outputs": [
    {
     "name": "stderr",
     "output_type": "stream",
     "text": [
      "/Users/mcnewcp/code/contextual-qa-chat-app/.venv/lib/python3.11/site-packages/datasets/load.py:2072: FutureWarning: 'use_auth_token' was deprecated in favor of 'token' in version 2.14.0 and will be removed in 3.0.0.\n",
      "You can remove this warning by passing 'token=None' instead.\n",
      "  warnings.warn(\n"
     ]
    },
    {
     "ename": "KeyError",
     "evalue": "'text'",
     "output_type": "error",
     "traceback": [
      "\u001b[0;31m---------------------------------------------------------------------------\u001b[0m",
      "\u001b[0;31mKeyError\u001b[0m                                  Traceback (most recent call last)",
      "Cell \u001b[0;32mIn[2], line 6\u001b[0m\n\u001b[1;32m      4\u001b[0m page_content_column \u001b[39m=\u001b[39m \u001b[39m\"\u001b[39m\u001b[39mtext\u001b[39m\u001b[39m\"\u001b[39m\n\u001b[1;32m      5\u001b[0m loader \u001b[39m=\u001b[39m HuggingFaceDatasetLoader(dataset_name, page_content_column)\n\u001b[0;32m----> 6\u001b[0m data \u001b[39m=\u001b[39m loader\u001b[39m.\u001b[39;49mload()\n",
      "File \u001b[0;32m~/code/contextual-qa-chat-app/.venv/lib/python3.11/site-packages/langchain/document_loaders/hugging_face_dataset.py:87\u001b[0m, in \u001b[0;36mHuggingFaceDatasetLoader.load\u001b[0;34m(self)\u001b[0m\n\u001b[1;32m     85\u001b[0m \u001b[39mdef\u001b[39;00m \u001b[39mload\u001b[39m(\u001b[39mself\u001b[39m) \u001b[39m-\u001b[39m\u001b[39m>\u001b[39m List[Document]:\n\u001b[1;32m     86\u001b[0m \u001b[39m    \u001b[39m\u001b[39m\"\"\"Load documents.\"\"\"\u001b[39;00m\n\u001b[0;32m---> 87\u001b[0m     \u001b[39mreturn\u001b[39;00m \u001b[39mlist\u001b[39;49m(\u001b[39mself\u001b[39;49m\u001b[39m.\u001b[39;49mlazy_load())\n",
      "File \u001b[0;32m~/code/contextual-qa-chat-app/.venv/lib/python3.11/site-packages/langchain/document_loaders/hugging_face_dataset.py:76\u001b[0m, in \u001b[0;36mHuggingFaceDatasetLoader.lazy_load\u001b[0;34m(self)\u001b[0m\n\u001b[1;32m     59\u001b[0m     \u001b[39mraise\u001b[39;00m \u001b[39mImportError\u001b[39;00m(\n\u001b[1;32m     60\u001b[0m         \u001b[39m\"\u001b[39m\u001b[39mCould not import datasets python package. \u001b[39m\u001b[39m\"\u001b[39m\n\u001b[1;32m     61\u001b[0m         \u001b[39m\"\u001b[39m\u001b[39mPlease install it with `pip install datasets`.\u001b[39m\u001b[39m\"\u001b[39m\n\u001b[1;32m     62\u001b[0m     )\n\u001b[1;32m     64\u001b[0m dataset \u001b[39m=\u001b[39m load_dataset(\n\u001b[1;32m     65\u001b[0m     path\u001b[39m=\u001b[39m\u001b[39mself\u001b[39m\u001b[39m.\u001b[39mpath,\n\u001b[1;32m     66\u001b[0m     name\u001b[39m=\u001b[39m\u001b[39mself\u001b[39m\u001b[39m.\u001b[39mname,\n\u001b[0;32m   (...)\u001b[0m\n\u001b[1;32m     73\u001b[0m     num_proc\u001b[39m=\u001b[39m\u001b[39mself\u001b[39m\u001b[39m.\u001b[39mnum_proc,\n\u001b[1;32m     74\u001b[0m )\n\u001b[0;32m---> 76\u001b[0m \u001b[39myield from\u001b[39;00m (\n\u001b[1;32m     77\u001b[0m     Document(\n\u001b[1;32m     78\u001b[0m         page_content\u001b[39m=\u001b[39mrow\u001b[39m.\u001b[39mpop(\u001b[39mself\u001b[39m\u001b[39m.\u001b[39mpage_content_column),\n\u001b[1;32m     79\u001b[0m         metadata\u001b[39m=\u001b[39mrow,\n\u001b[1;32m     80\u001b[0m     )\n\u001b[1;32m     81\u001b[0m     \u001b[39mfor\u001b[39;00m key \u001b[39min\u001b[39;00m dataset\u001b[39m.\u001b[39mkeys()\n\u001b[1;32m     82\u001b[0m     \u001b[39mfor\u001b[39;00m row \u001b[39min\u001b[39;00m dataset[key]\n\u001b[1;32m     83\u001b[0m )\n",
      "File \u001b[0;32m~/code/contextual-qa-chat-app/.venv/lib/python3.11/site-packages/langchain/document_loaders/hugging_face_dataset.py:78\u001b[0m, in \u001b[0;36m<genexpr>\u001b[0;34m(.0)\u001b[0m\n\u001b[1;32m     59\u001b[0m     \u001b[39mraise\u001b[39;00m \u001b[39mImportError\u001b[39;00m(\n\u001b[1;32m     60\u001b[0m         \u001b[39m\"\u001b[39m\u001b[39mCould not import datasets python package. \u001b[39m\u001b[39m\"\u001b[39m\n\u001b[1;32m     61\u001b[0m         \u001b[39m\"\u001b[39m\u001b[39mPlease install it with `pip install datasets`.\u001b[39m\u001b[39m\"\u001b[39m\n\u001b[1;32m     62\u001b[0m     )\n\u001b[1;32m     64\u001b[0m dataset \u001b[39m=\u001b[39m load_dataset(\n\u001b[1;32m     65\u001b[0m     path\u001b[39m=\u001b[39m\u001b[39mself\u001b[39m\u001b[39m.\u001b[39mpath,\n\u001b[1;32m     66\u001b[0m     name\u001b[39m=\u001b[39m\u001b[39mself\u001b[39m\u001b[39m.\u001b[39mname,\n\u001b[0;32m   (...)\u001b[0m\n\u001b[1;32m     73\u001b[0m     num_proc\u001b[39m=\u001b[39m\u001b[39mself\u001b[39m\u001b[39m.\u001b[39mnum_proc,\n\u001b[1;32m     74\u001b[0m )\n\u001b[1;32m     76\u001b[0m \u001b[39myield from\u001b[39;00m (\n\u001b[1;32m     77\u001b[0m     Document(\n\u001b[0;32m---> 78\u001b[0m         page_content\u001b[39m=\u001b[39mrow\u001b[39m.\u001b[39;49mpop(\u001b[39mself\u001b[39;49m\u001b[39m.\u001b[39;49mpage_content_column),\n\u001b[1;32m     79\u001b[0m         metadata\u001b[39m=\u001b[39mrow,\n\u001b[1;32m     80\u001b[0m     )\n\u001b[1;32m     81\u001b[0m     \u001b[39mfor\u001b[39;00m key \u001b[39min\u001b[39;00m dataset\u001b[39m.\u001b[39mkeys()\n\u001b[1;32m     82\u001b[0m     \u001b[39mfor\u001b[39;00m row \u001b[39min\u001b[39;00m dataset[key]\n\u001b[1;32m     83\u001b[0m )\n",
      "\u001b[0;31mKeyError\u001b[0m: 'text'"
     ]
    }
   ],
   "source": [
    "from langchain.document_loaders import HuggingFaceDatasetLoader\n",
    "\n",
    "dataset_name = \"winddude/reddit_finance_43_250k\"\n",
    "page_content_column = \"text\"\n",
    "loader = HuggingFaceDatasetLoader(dataset_name, page_content_column)\n",
    "data = loader.load()"
   ]
  }
 ],
 "metadata": {
  "kernelspec": {
   "display_name": ".venv",
   "language": "python",
   "name": "python3"
  },
  "language_info": {
   "codemirror_mode": {
    "name": "ipython",
    "version": 3
   },
   "file_extension": ".py",
   "mimetype": "text/x-python",
   "name": "python",
   "nbconvert_exporter": "python",
   "pygments_lexer": "ipython3",
   "version": "3.11.1"
  },
  "orig_nbformat": 4
 },
 "nbformat": 4,
 "nbformat_minor": 2
}
